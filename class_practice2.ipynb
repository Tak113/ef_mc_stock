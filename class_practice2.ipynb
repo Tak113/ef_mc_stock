{
 "cells": [
  {
   "cell_type": "code",
   "execution_count": 21,
   "id": "571ddc5e-4bb0-4775-90e0-66a7de3ecc07",
   "metadata": {},
   "outputs": [],
   "source": [
    "class Student:\n",
    "    def __init__(self, name, school):\n",
    "        self.name = name\n",
    "        self.school = school\n",
    "        self.marks = []\n",
    "    \n",
    "    def average(self):\n",
    "        '''\n",
    "        return average\n",
    "        '''\n",
    "        return sum(self.marks) / len(self.marks)\n",
    "    \n",
    "    @classmethod\n",
    "    def friend(cls, origin, friend_name, *args):\n",
    "        '''\n",
    "        test\n",
    "        '''\n",
    "        return cls(friend_name, origin.school, *args)"
   ]
  },
  {
   "cell_type": "code",
   "execution_count": 22,
   "id": "657256b9-f5d9-4db5-95e0-479cabdcc797",
   "metadata": {},
   "outputs": [
    {
     "data": {
      "text/plain": [
       "__main__.Student"
      ]
     },
     "execution_count": 22,
     "metadata": {},
     "output_type": "execute_result"
    }
   ],
   "source": [
    "Student"
   ]
  },
  {
   "cell_type": "code",
   "execution_count": 23,
   "id": "6a153d4b-2282-44dd-af04-f901f5897dd4",
   "metadata": {},
   "outputs": [
    {
     "data": {
      "text/plain": [
       "<__main__.Student at 0x1054b80d0>"
      ]
     },
     "execution_count": 23,
     "metadata": {},
     "output_type": "execute_result"
    }
   ],
   "source": [
    "Student('tak','aaa')"
   ]
  },
  {
   "cell_type": "code",
   "execution_count": 24,
   "id": "e294ae73-ba56-4c90-a34a-0a83757ff242",
   "metadata": {},
   "outputs": [],
   "source": [
    "class WorkingStudent(Student):\n",
    "    def __init__(self, name, school, salary):\n",
    "        super().__init__(name, school)\n",
    "        self.salary = salary"
   ]
  },
  {
   "cell_type": "code",
   "execution_count": 25,
   "id": "f162b3ab-b2b3-4a9d-891b-316224bc0f7b",
   "metadata": {},
   "outputs": [],
   "source": [
    "hiro = WorkingStudent('Hiro','Stanfor', 20)"
   ]
  },
  {
   "cell_type": "code",
   "execution_count": 26,
   "id": "b548e6b0-db88-437d-91f7-cbdbedf66a50",
   "metadata": {},
   "outputs": [
    {
     "data": {
      "text/plain": [
       "<__main__.WorkingStudent at 0x1054b89a0>"
      ]
     },
     "execution_count": 26,
     "metadata": {},
     "output_type": "execute_result"
    }
   ],
   "source": [
    "hiro"
   ]
  },
  {
   "cell_type": "code",
   "execution_count": 27,
   "id": "6059b06d-1ac0-4b72-b19a-c8183a5447a9",
   "metadata": {},
   "outputs": [
    {
     "name": "stdout",
     "output_type": "stream",
     "text": [
      "<__main__.WorkingStudent object at 0x1054b89a0>\n"
     ]
    }
   ],
   "source": [
    "print(hiro)"
   ]
  },
  {
   "cell_type": "code",
   "execution_count": 28,
   "id": "eee1aa80-a24b-4b20-aeb8-73c92c4b46e2",
   "metadata": {},
   "outputs": [
    {
     "data": {
      "text/plain": [
       "20"
      ]
     },
     "execution_count": 28,
     "metadata": {},
     "output_type": "execute_result"
    }
   ],
   "source": [
    "hiro.salary"
   ]
  },
  {
   "cell_type": "code",
   "execution_count": 29,
   "id": "19c86f67-59a1-40ad-8485-4d5952593722",
   "metadata": {},
   "outputs": [],
   "source": [
    "mitsu = WorkingStudent.friend(hiro, 'Mitsu', 15)"
   ]
  },
  {
   "cell_type": "code",
   "execution_count": 30,
   "id": "65a7734e-ec77-4a0b-bad8-41f9d48cc0c7",
   "metadata": {},
   "outputs": [
    {
     "name": "stdout",
     "output_type": "stream",
     "text": [
      "<__main__.WorkingStudent object at 0x10556b220>\n"
     ]
    }
   ],
   "source": [
    "print(mitsu)"
   ]
  },
  {
   "cell_type": "code",
   "execution_count": 31,
   "id": "340f74b3-96c4-428e-94a3-7538860ffbd7",
   "metadata": {},
   "outputs": [
    {
     "data": {
      "text/plain": [
       "15"
      ]
     },
     "execution_count": 31,
     "metadata": {},
     "output_type": "execute_result"
    }
   ],
   "source": [
    "mitsu.salary"
   ]
  },
  {
   "cell_type": "code",
   "execution_count": 32,
   "id": "d7cd5d55-703e-48c8-86b6-ee01a509e950",
   "metadata": {},
   "outputs": [
    {
     "data": {
      "text/plain": [
       "20"
      ]
     },
     "execution_count": 32,
     "metadata": {},
     "output_type": "execute_result"
    }
   ],
   "source": [
    "hiro.salary"
   ]
  },
  {
   "cell_type": "code",
   "execution_count": null,
   "id": "8e93776d-a31c-4947-81be-3e14fde5374f",
   "metadata": {},
   "outputs": [],
   "source": []
  }
 ],
 "metadata": {
  "kernelspec": {
   "display_name": "Python 3",
   "language": "python",
   "name": "python3"
  },
  "language_info": {
   "codemirror_mode": {
    "name": "ipython",
    "version": 3
   },
   "file_extension": ".py",
   "mimetype": "text/x-python",
   "name": "python",
   "nbconvert_exporter": "python",
   "pygments_lexer": "ipython3",
   "version": "3.8.2"
  }
 },
 "nbformat": 4,
 "nbformat_minor": 5
}
