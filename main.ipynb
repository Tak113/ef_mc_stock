{
 "cells": [
  {
   "cell_type": "markdown",
   "id": "d553ec8a-00eb-4f03-97c7-b2b9bb4b590c",
   "metadata": {},
   "source": [
    "# Load Libraries Test"
   ]
  },
  {
   "cell_type": "markdown",
   "id": "16897158-2796-46fd-8f9f-6f50dab8e97e",
   "metadata": {},
   "source": [
    "#### test on import and from"
   ]
  },
  {
   "cell_type": "code",
   "execution_count": 1,
   "id": "b5ef504d-3145-4110-be0f-2d6b91a826a2",
   "metadata": {
    "tags": []
   },
   "outputs": [],
   "source": [
    "# from : file, import : class\n",
    "from settings import settings"
   ]
  },
  {
   "cell_type": "code",
   "execution_count": 2,
   "id": "5f8c6605-4741-41c2-90d9-ff903b36d35a",
   "metadata": {},
   "outputs": [
    {
     "ename": "AttributeError",
     "evalue": "type object 'settings' has no attribute 'MyCompanies'",
     "output_type": "error",
     "traceback": [
      "\u001b[0;31m---------------------------------------------------------------------------\u001b[0m",
      "\u001b[0;31mAttributeError\u001b[0m                            Traceback (most recent call last)",
      "\u001b[0;32m<ipython-input-2-b38dbae54ad2>\u001b[0m in \u001b[0;36m<module>\u001b[0;34m\u001b[0m\n\u001b[1;32m      1\u001b[0m \u001b[0;31m# test\u001b[0m\u001b[0;34m\u001b[0m\u001b[0;34m\u001b[0m\u001b[0;34m\u001b[0m\u001b[0m\n\u001b[0;32m----> 2\u001b[0;31m \u001b[0msettings\u001b[0m\u001b[0;34m.\u001b[0m\u001b[0mMyCompanies\u001b[0m\u001b[0;34m\u001b[0m\u001b[0;34m\u001b[0m\u001b[0m\n\u001b[0m",
      "\u001b[0;31mAttributeError\u001b[0m: type object 'settings' has no attribute 'MyCompanies'"
     ]
    }
   ],
   "source": [
    "# test\n",
    "settings.MyCompanies"
   ]
  },
  {
   "cell_type": "code",
   "execution_count": 3,
   "id": "03763ad2-6743-454b-9757-d49796c21c40",
   "metadata": {},
   "outputs": [
    {
     "data": {
      "text/plain": [
       "'yahoo'"
      ]
     },
     "execution_count": 3,
     "metadata": {},
     "output_type": "execute_result"
    }
   ],
   "source": [
    "settings.API"
   ]
  },
  {
   "cell_type": "markdown",
   "id": "ca4ccde2-39e7-4931-b214-0e001790d574",
   "metadata": {},
   "source": [
    "# Load Libraries"
   ]
  },
  {
   "cell_type": "code",
   "execution_count": 4,
   "id": "f33ed736-c392-47bf-a550-978e02b313f2",
   "metadata": {},
   "outputs": [],
   "source": [
    "from settings import settings\n",
    "from object_factory import object_factory\n",
    "from mappers import portfolios_allocation_mapper"
   ]
  },
  {
   "cell_type": "code",
   "execution_count": 5,
   "id": "ef163489-151e-435f-9821-190ae46d4e89",
   "metadata": {},
   "outputs": [
    {
     "ename": "AttributeError",
     "evalue": "type object 'settings' has no attribute 'MyCompanies'",
     "output_type": "error",
     "traceback": [
      "\u001b[0;31m---------------------------------------------------------------------------\u001b[0m",
      "\u001b[0;31mAttributeError\u001b[0m                            Traceback (most recent call last)",
      "\u001b[0;32m<ipython-input-5-3906fb333aa6>\u001b[0m in \u001b[0;36m<module>\u001b[0;34m\u001b[0m\n\u001b[0;32m----> 1\u001b[0;31m \u001b[0msettings\u001b[0m\u001b[0;34m.\u001b[0m\u001b[0mMyCompanies\u001b[0m\u001b[0;34m\u001b[0m\u001b[0;34m\u001b[0m\u001b[0m\n\u001b[0m",
      "\u001b[0;31mAttributeError\u001b[0m: type object 'settings' has no attribute 'MyCompanies'"
     ]
    }
   ],
   "source": [
    "settings.MyCompanies"
   ]
  },
  {
   "cell_type": "markdown",
   "id": "1387e1a8-4559-4e8d-a8e1-e6a92f7201dd",
   "metadata": {},
   "source": [
    "# Generate optimum portfolio. Run all functions step by steps"
   ]
  },
  {
   "cell_type": "code",
   "execution_count": 6,
   "id": "fe2c7c6f-dfe8-4ff8-a4bd-eeca487ea305",
   "metadata": {},
   "outputs": [],
   "source": [
    "def generate_optimum_portfolio():\n",
    "    \n",
    "    #instantiate the objects with the settings\n",
    "    \n",
    "    # function lists\n",
    "    obj_factory = object_factory(settings)\n",
    "    \n",
    "    # call functions\n",
    "#     ce = obj_factory.get_companies_extractor() # get companies info\n",
    "    cp = obj_factory.get_charts_plotter() # get stock charts over given time horizon\n",
    "    mc = obj_factory.get_metrics_calculator()\n",
    "    mcs = obj_factory.get_portfolio_generator()\n",
    "    \n",
    "    print('0. Get companies')\n",
    "    companies = settings.get_companies_list()\n",
    "    print(companies)\n",
    "    \n",
    "    price_extractor = obj_factory.get_price_extractor(companies)\n",
    "#     print(price_extractor)\n",
    "    \n",
    "    print('1. Get company stock prices')\n",
    "    \n",
    "    end_date = settings.get_end_date()\n",
    "    start_date = settings.get_start_date(end_date)\n",
    "    closing_prices = price_extractor.get_prices(settings.PriceEvent, start_date, end_date)\n",
    "#     print(end_date)\n",
    "#     print(start_date)\n",
    "    \n",
    "    print('2. Plot stock charts')\n",
    "    #plot stock prices & save data to a file\n",
    "#     print(closing_prices)\n",
    "    cp.plot_prices(closing_prices)\n",
    "    \n",
    "    print('3. Calculate Daily Returns')\n",
    "    returns = settings.DailyAssetsReturnsFunction(closing_prices)\n",
    "    # plot stock daily changes\n",
    "#     print(returns)\n",
    "    cp.plot_returns(returns)\n",
    "    \n",
    "    print('3.1 Calculate Expected Returns : Cumulative value for 1$ investment')\n",
    "    # calculate cagr\n",
    "    cum_return = settings.DailyAssetsCumulativeReturnsFunction(returns)\n",
    "#     print(cum_return)\n",
    "    # plot 1$ expected cumulative growth\n",
    "    cp.plot_cum_daily_return(cum_return)\n",
    "    \n",
    "    print('3.2 Calculate Expected Mean Return from daily changes')\n",
    "    print('To see relation with cumulative value. Getting annual expected return to the power of years of duration.')\n",
    "    expected_returns = settings.AssetsExpectedReturnsFunction(returns)\n",
    "#     print(expected_returns)\n",
    "    cp.plot_expected_returns(expected_returns)\n",
    "#     print(expected_returns.index)\n",
    "    \n",
    "    print('4. Calculate covariance for efficient edge quantification')\n",
    "    # covariance will be used for optimization after 5\n",
    "    covariance = settings.AssetsCovarianceFunction(returns)\n",
    "#     print(covariance)\n",
    "    \n",
    "    print('4.1 Visualize daily returns correlation : Scatter')\n",
    "    print('Having similar scatter trend tickers does not help to mitigate risk')\n",
    "    cp.plot_correlation_scatter(returns)\n",
    "#     print(returns.corr())\n",
    "    \n",
    "    print('4.2 Calculate daily change correlation coefficiencies : Matrix')\n",
    "    cp.plot_correlation_matrix(returns)\n",
    "    \n",
    "    print('5 Use an optimiser')\n",
    "    print('5.1 Getting efficient frontier by optimization')\n",
    "    #generate portfolios\n",
    "    targets = settings.get_my_targets()\n",
    "    # expected_returns.index returns tickers\n",
    "    optimiser = obj_factory.get_optimiser(targets, len(expected_returns.index))\n",
    "    portfolios_allocations_df = optimiser.generate_portfolios(expected_returns, covariance, settings.RiskFreeRate)\n",
    "#     print(portfolios_allocations_df)\n",
    "    # transpose optimisation result, picking up just risk and returns\n",
    "    portfolio_risk_return_ratio_df = portfolios_allocation_mapper.map_to_risk_return_ratios(portfolios_allocations_df)\n",
    "    \n",
    "    # transpose optimisation result, showing asset allocation as well as risk and returns\n",
    "    portfolio_risk_return_allc_ratio_df = portfolios_allocation_mapper.map_to_risk_return_allc_ratio(portfolios_allocations_df)\n",
    "#     print(portfolio_risk_return_allc_ratio_df)\n",
    "    min_risk = mc.get_min_risk(portfolio_risk_return_allc_ratio_df)\n",
    "    max_sr = mc.get_max_sharpe_ratio(portfolio_risk_return_allc_ratio_df)\n",
    "    max_return = mc.get_max_return(portfolio_risk_return_allc_ratio_df)\n",
    "    min_return = mc.get_min_return(portfolio_risk_return_allc_ratio_df)\n",
    "#     print(max_return)\n",
    "    \n",
    "    print('5.2 Add random data by monte carlo')\n",
    "    # generate portfolios with allocations\n",
    "    portfolios_allocations_df = mcs.generate_portfolios(expected_returns, covariance, settings.RiskFreeRate)\n",
    "    portfolio_risk_return_mc_df = portfolios_allocation_mapper.map_to_risk_return_ratios(portfolios_allocations_df)\n",
    "    \n",
    "    print('5.3 Plot optimization and random data results')\n",
    "    # plot portfolios\n",
    "    cp.plot_efficient_frontier(portfolio_risk_return_ratio_df, min_risk, max_sr, max_return, min_return, portfolio_risk_return_mc_df)\n",
    "    \n",
    "    print('5.4 Allocation for optimum portfolios')\n",
    "    cp.plot_pie(max_sr, min_risk, max_return, min_return)"
   ]
  },
  {
   "cell_type": "markdown",
   "id": "bc5e5671-2bcf-4df4-bb32-620d7fee2dfb",
   "metadata": {},
   "source": [
    "# Execute everything"
   ]
  },
  {
   "cell_type": "code",
   "execution_count": 7,
   "id": "ea8478da-9783-4f7a-a494-a41fd8fff6a5",
   "metadata": {},
   "outputs": [
    {
     "name": "stdout",
     "output_type": "stream",
     "text": [
      "0. Get companies\n"
     ]
    },
    {
     "ename": "TypeError",
     "evalue": "get_companies_list() missing 1 required positional argument: 'ticker'",
     "output_type": "error",
     "traceback": [
      "\u001b[0;31m---------------------------------------------------------------------------\u001b[0m",
      "\u001b[0;31mTypeError\u001b[0m                                 Traceback (most recent call last)",
      "\u001b[0;32m<ipython-input-7-cb226060ff27>\u001b[0m in \u001b[0;36m<module>\u001b[0;34m\u001b[0m\n\u001b[0;32m----> 1\u001b[0;31m \u001b[0mgenerate_optimum_portfolio\u001b[0m\u001b[0;34m(\u001b[0m\u001b[0;34m)\u001b[0m\u001b[0;34m\u001b[0m\u001b[0;34m\u001b[0m\u001b[0m\n\u001b[0m",
      "\u001b[0;32m<ipython-input-6-c60f807ebff0>\u001b[0m in \u001b[0;36mgenerate_optimum_portfolio\u001b[0;34m()\u001b[0m\n\u001b[1;32m     13\u001b[0m \u001b[0;34m\u001b[0m\u001b[0m\n\u001b[1;32m     14\u001b[0m     \u001b[0mprint\u001b[0m\u001b[0;34m(\u001b[0m\u001b[0;34m'0. Get companies'\u001b[0m\u001b[0;34m)\u001b[0m\u001b[0;34m\u001b[0m\u001b[0;34m\u001b[0m\u001b[0m\n\u001b[0;32m---> 15\u001b[0;31m     \u001b[0mcompanies\u001b[0m \u001b[0;34m=\u001b[0m \u001b[0msettings\u001b[0m\u001b[0;34m.\u001b[0m\u001b[0mget_companies_list\u001b[0m\u001b[0;34m(\u001b[0m\u001b[0;34m)\u001b[0m\u001b[0;34m\u001b[0m\u001b[0;34m\u001b[0m\u001b[0m\n\u001b[0m\u001b[1;32m     16\u001b[0m     \u001b[0mprint\u001b[0m\u001b[0;34m(\u001b[0m\u001b[0mcompanies\u001b[0m\u001b[0;34m)\u001b[0m\u001b[0;34m\u001b[0m\u001b[0;34m\u001b[0m\u001b[0m\n\u001b[1;32m     17\u001b[0m \u001b[0;34m\u001b[0m\u001b[0m\n",
      "\u001b[0;31mTypeError\u001b[0m: get_companies_list() missing 1 required positional argument: 'ticker'"
     ]
    }
   ],
   "source": [
    "generate_optimum_portfolio()"
   ]
  },
  {
   "cell_type": "code",
   "execution_count": null,
   "id": "53f95032-a352-4c0b-823f-6aacf0e37515",
   "metadata": {},
   "outputs": [],
   "source": []
  }
 ],
 "metadata": {
  "kernelspec": {
   "display_name": "Python 3",
   "language": "python",
   "name": "python3"
  },
  "language_info": {
   "codemirror_mode": {
    "name": "ipython",
    "version": 3
   },
   "file_extension": ".py",
   "mimetype": "text/x-python",
   "name": "python",
   "nbconvert_exporter": "python",
   "pygments_lexer": "ipython3",
   "version": "3.8.9"
  }
 },
 "nbformat": 4,
 "nbformat_minor": 5
}
