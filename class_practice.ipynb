{
 "cells": [
  {
   "cell_type": "code",
   "execution_count": 97,
   "id": "4ecae161-8853-47fa-8150-afd5e164423f",
   "metadata": {},
   "outputs": [],
   "source": [
    "class employee:\n",
    "    num_of_emps = 0\n",
    "    raise_amount = 1.04\n",
    "    \n",
    "    def __init__(self, first, last, pay): #initialize, constractor\n",
    "        self.first = first\n",
    "        self.last = last\n",
    "        self.pay = pay\n",
    "        self.email = first + '.' + last + '@company.com'\n",
    "        \n",
    "        employee.num_of_emps += 1\n",
    "    \n",
    "    def fullname(self):\n",
    "        return '{} {}'.format(self.first, self.last)\n",
    "    \n",
    "    def apply_raise(self):\n",
    "        self.pay = int(self.pay * self.raise_amount)\n",
    "    \n",
    "    @classmethod\n",
    "    def set_raise_amt(cls, amount):\n",
    "        cls.raise_amt = amount\n",
    "    \n",
    "    @classmethod\n",
    "    def from_string(cls, emp_str):\n",
    "        first, last, pay = emp_str.split('-')\n",
    "        return cls(first, last, pay)\n",
    "    \n",
    "    @staticmethod\n",
    "    def is_workday(day):\n",
    "        if day.weekday() == 5 or day.weekday() == 6:\n",
    "            return False\n",
    "        return True"
   ]
  },
  {
   "cell_type": "code",
   "execution_count": 98,
   "id": "00bd2cfe-57da-40e6-b7c9-e912f1d8cf82",
   "metadata": {},
   "outputs": [],
   "source": [
    "emp_1 = employee('Corey', 'Schafer', 5000)\n",
    "emp_2 = employee('Test', 'User', 6000)"
   ]
  },
  {
   "cell_type": "code",
   "execution_count": 101,
   "id": "2d722b75-2f4a-4d07-8bd7-5d6e10db76e9",
   "metadata": {},
   "outputs": [
    {
     "name": "stdout",
     "output_type": "stream",
     "text": [
      "False\n"
     ]
    }
   ],
   "source": [
    "import datetime\n",
    "my_date = datetime.date(2021, 5, 8)\n",
    "print(employee.is_workday(my_date))"
   ]
  },
  {
   "cell_type": "code",
   "execution_count": 111,
   "id": "03e40f92-442b-4dec-8b04-8c75e02a3d69",
   "metadata": {},
   "outputs": [],
   "source": [
    "class developer(employee):\n",
    "    raise_amt = 1.10\n",
    "    \n",
    "    def __init__(self, first, last, pay, prog_lang):\n",
    "        super().__init__(first, last, pay) # inherit from employee class\n",
    "        self.prog_lang = prog_lang"
   ]
  },
  {
   "cell_type": "code",
   "execution_count": 113,
   "id": "f85c7743-829c-44f5-ace5-940dec3bf8d5",
   "metadata": {},
   "outputs": [],
   "source": [
    "dev_1 = developer('Corey', 'Schafer', 5000, 'Python')\n",
    "dev_2 = developer('Test', 'User', 6000, 'Java')"
   ]
  },
  {
   "cell_type": "code",
   "execution_count": 114,
   "id": "55edc752-9f1d-49b8-9818-7cca2ceefed7",
   "metadata": {},
   "outputs": [
    {
     "name": "stdout",
     "output_type": "stream",
     "text": [
      "Corey.Schafer@company.com\n",
      "Python\n"
     ]
    }
   ],
   "source": [
    "print(dev_1.email)\n",
    "print(dev_1.prog_lang)"
   ]
  },
  {
   "cell_type": "code",
   "execution_count": 115,
   "id": "de9097ba-31bd-4f2e-ab54-2da6c73a5834",
   "metadata": {},
   "outputs": [],
   "source": [
    "class manager(employee):\n",
    "    \n",
    "    def __init__(self, fist, last, pay, employee = None):\n",
    "        super().__init__(first, last, pay)\n",
    "        if employee is None:\n",
    "            self.employee = []\n",
    "        else:\n",
    "            self.employee = employee\n",
    "    \n",
    "    def add_emp(self, emp):\n",
    "        if emp not in self.employee:\n",
    "            self.employee.append(emp)\n",
    "    \n",
    "    def remove_emp(self, emp):\n",
    "        if emp in self.employee:\n",
    "            self.employee.remove(emp)\n",
    "    \n",
    "    def print_emps(self):\n",
    "        for emp in self.employee:\n",
    "            print('-->', emp.fullname())"
   ]
  },
  {
   "cell_type": "code",
   "execution_count": 116,
   "id": "f67fbebd-f982-430e-8429-6977e34ad1a5",
   "metadata": {},
   "outputs": [],
   "source": [
    "mgr_1 = manager('Sue', 'Smith', 9000, [dev_1])"
   ]
  },
  {
   "cell_type": "code",
   "execution_count": 117,
   "id": "8cb95f2e-b2f0-4c42-b91f-5d1e6e1ee2a1",
   "metadata": {},
   "outputs": [
    {
     "name": "stdout",
     "output_type": "stream",
     "text": [
      "John.Smith@company.com\n"
     ]
    }
   ],
   "source": [
    "print(mgr_1.email)"
   ]
  },
  {
   "cell_type": "code",
   "execution_count": 118,
   "id": "c759c7a2-17f1-4a11-8ad6-fc61be595f5b",
   "metadata": {},
   "outputs": [
    {
     "name": "stdout",
     "output_type": "stream",
     "text": [
      "--> Corey Schafer\n"
     ]
    }
   ],
   "source": [
    "mgr_1.print_emps()"
   ]
  },
  {
   "cell_type": "code",
   "execution_count": 119,
   "id": "1f7454d9-1ca3-4096-867e-f667d67e9c1f",
   "metadata": {},
   "outputs": [],
   "source": [
    "mgr_1.add_emp(dev_2)"
   ]
  },
  {
   "cell_type": "code",
   "execution_count": 120,
   "id": "e5d7d8d8-1384-4d20-8a17-03cf6ffbc182",
   "metadata": {},
   "outputs": [
    {
     "name": "stdout",
     "output_type": "stream",
     "text": [
      "--> Corey Schafer\n",
      "--> Test User\n"
     ]
    }
   ],
   "source": [
    "mgr_1.print_emps()"
   ]
  },
  {
   "cell_type": "code",
   "execution_count": 121,
   "id": "05455aa7-d555-46f2-bb41-5decc898540d",
   "metadata": {},
   "outputs": [
    {
     "name": "stdout",
     "output_type": "stream",
     "text": [
      "--> Test User\n"
     ]
    }
   ],
   "source": [
    "mgr_1.remove_emp(dev_1)\n",
    "mgr_1.print_emps()"
   ]
  },
  {
   "cell_type": "code",
   "execution_count": 124,
   "id": "d6b94cbc-e065-4207-bf51-744a227ce99b",
   "metadata": {},
   "outputs": [
    {
     "name": "stdout",
     "output_type": "stream",
     "text": [
      "False\n"
     ]
    }
   ],
   "source": [
    "print(isinstance(mgr_1, developer))"
   ]
  },
  {
   "cell_type": "code",
   "execution_count": 127,
   "id": "35b16525-8962-4aac-ac19-5fb55477f455",
   "metadata": {},
   "outputs": [
    {
     "name": "stdout",
     "output_type": "stream",
     "text": [
      "True\n"
     ]
    }
   ],
   "source": [
    "print(issubclass(manager, employee))"
   ]
  },
  {
   "cell_type": "code",
   "execution_count": 128,
   "id": "cf1c8ac7-64d2-438d-803c-e81d77bff582",
   "metadata": {},
   "outputs": [],
   "source": [
    "import matplotlib.pyplot as plt"
   ]
  },
  {
   "cell_type": "code",
   "execution_count": null,
   "id": "af9ec629-5721-4646-a8b8-b8a7ac4748dc",
   "metadata": {},
   "outputs": [],
   "source": [
    "ax = plt.gca("
   ]
  }
 ],
 "metadata": {
  "kernelspec": {
   "display_name": "Python 3",
   "language": "python",
   "name": "python3"
  },
  "language_info": {
   "codemirror_mode": {
    "name": "ipython",
    "version": 3
   },
   "file_extension": ".py",
   "mimetype": "text/x-python",
   "name": "python",
   "nbconvert_exporter": "python",
   "pygments_lexer": "ipython3",
   "version": "3.8.2"
  }
 },
 "nbformat": 4,
 "nbformat_minor": 5
}
